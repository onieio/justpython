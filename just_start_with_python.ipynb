{
  "nbformat": 4,
  "nbformat_minor": 0,
  "metadata": {
    "colab": {
      "provenance": [],
      "toc_visible": true,
      "authorship_tag": "ABX9TyNsIAmTeHargbADvNG2/m//",
      "include_colab_link": true
    },
    "kernelspec": {
      "name": "python3",
      "display_name": "Python 3"
    },
    "language_info": {
      "name": "python"
    }
  },
  "cells": [
    {
      "cell_type": "markdown",
      "metadata": {
        "id": "view-in-github",
        "colab_type": "text"
      },
      "source": [
        "<a href=\"https://colab.research.google.com/github/onieio/justpython/blob/main/just_start_with_python.ipynb\" target=\"_parent\"><img src=\"https://colab.research.google.com/assets/colab-badge.svg\" alt=\"Open In Colab\"/></a>"
      ]
    },
    {
      "cell_type": "markdown",
      "source": [
        "#### Statements"
      ],
      "metadata": {
        "id": "UXDOjAhVWKc_"
      }
    },
    {
      "cell_type": "code",
      "source": [
        "name = \"onieio\""
      ],
      "metadata": {
        "id": "30HvoyjeVuML"
      },
      "execution_count": 4,
      "outputs": []
    },
    {
      "cell_type": "code",
      "source": [
        "print(f\"Welcome {name}!\")"
      ],
      "metadata": {
        "colab": {
          "base_uri": "https://localhost:8080/"
        },
        "id": "OWWB8g9lV0eb",
        "outputId": "4cf0ac08-e1e3-4c81-dd55-3a1bb9ab8fe4"
      },
      "execution_count": 6,
      "outputs": [
        {
          "output_type": "stream",
          "name": "stdout",
          "text": [
            "Welcome onieio!\n"
          ]
        }
      ]
    },
    {
      "cell_type": "markdown",
      "source": [
        "#### Data Structures "
      ],
      "metadata": {
        "id": "TmDu6CTKWWZK"
      }
    },
    {
      "cell_type": "markdown",
      "source": [
        "#### List"
      ],
      "metadata": {
        "id": "l5k_4u4GWymw"
      }
    },
    {
      "cell_type": "code",
      "source": [
        "items = []"
      ],
      "metadata": {
        "id": "PV4vll6iV_vD"
      },
      "execution_count": 46,
      "outputs": []
    },
    {
      "cell_type": "code",
      "source": [
        "type(items)"
      ],
      "metadata": {
        "colab": {
          "base_uri": "https://localhost:8080/"
        },
        "id": "3yUWZbsLW7yG",
        "outputId": "9238f9d2-3b90-4af4-d6eb-d1af8ffc7be0"
      },
      "execution_count": 8,
      "outputs": [
        {
          "output_type": "execute_result",
          "data": {
            "text/plain": [
              "list"
            ]
          },
          "metadata": {},
          "execution_count": 8
        }
      ]
    },
    {
      "cell_type": "code",
      "source": [
        "items.append(\"Orange\")"
      ],
      "metadata": {
        "id": "-qe0XC48W9k9"
      },
      "execution_count": 47,
      "outputs": []
    },
    {
      "cell_type": "code",
      "source": [
        "print(f\"Elements in the basket {items}\")"
      ],
      "metadata": {
        "colab": {
          "base_uri": "https://localhost:8080/"
        },
        "id": "IaHrElyNXDWG",
        "outputId": "575d9ce4-f8ad-4ae0-f6d5-a36f22c6f51b"
      },
      "execution_count": 48,
      "outputs": [
        {
          "output_type": "stream",
          "name": "stdout",
          "text": [
            "Elements in the basket ['Orange']\n"
          ]
        }
      ]
    },
    {
      "cell_type": "markdown",
      "source": [
        "List Slicing"
      ],
      "metadata": {
        "id": "llbZhBPTXaIm"
      }
    },
    {
      "cell_type": "code",
      "source": [
        "cart = []"
      ],
      "metadata": {
        "id": "N6gMgOZzXNlD"
      },
      "execution_count": 19,
      "outputs": []
    },
    {
      "cell_type": "code",
      "source": [
        "cart = ['Apple', 'Pear', 'orange', 'Banana']"
      ],
      "metadata": {
        "id": "Wu5BT69DXxSd"
      },
      "execution_count": 22,
      "outputs": []
    },
    {
      "cell_type": "code",
      "source": [
        "cart[-1]"
      ],
      "metadata": {
        "colab": {
          "base_uri": "https://localhost:8080/",
          "height": 35
        },
        "id": "J-KCeK5XYFNl",
        "outputId": "c36a2612-ce2f-4072-e51d-ffb689d1b2ac"
      },
      "execution_count": 23,
      "outputs": [
        {
          "output_type": "execute_result",
          "data": {
            "text/plain": [
              "'Banana'"
            ],
            "application/vnd.google.colaboratory.intrinsic+json": {
              "type": "string"
            }
          },
          "metadata": {},
          "execution_count": 23
        }
      ]
    },
    {
      "cell_type": "code",
      "source": [
        "cart[0:2]"
      ],
      "metadata": {
        "colab": {
          "base_uri": "https://localhost:8080/"
        },
        "id": "AnuYAqV_ZDS_",
        "outputId": "6e6a9390-1929-4dcf-bb43-d1f4ad000b1b"
      },
      "execution_count": 24,
      "outputs": [
        {
          "output_type": "execute_result",
          "data": {
            "text/plain": [
              "['Apple', 'Pear']"
            ]
          },
          "metadata": {},
          "execution_count": 24
        }
      ]
    },
    {
      "cell_type": "code",
      "source": [
        "cart[0:3]"
      ],
      "metadata": {
        "colab": {
          "base_uri": "https://localhost:8080/"
        },
        "id": "uQ-Be2QAZNWP",
        "outputId": "5a99504f-27ec-40a0-9369-faad41b62c04"
      },
      "execution_count": 25,
      "outputs": [
        {
          "output_type": "execute_result",
          "data": {
            "text/plain": [
              "['Apple', 'Pear', 'orange']"
            ]
          },
          "metadata": {},
          "execution_count": 25
        }
      ]
    },
    {
      "cell_type": "code",
      "source": [
        "cart[:-1]"
      ],
      "metadata": {
        "colab": {
          "base_uri": "https://localhost:8080/"
        },
        "id": "LV9RHJVwZStm",
        "outputId": "e2bbcbb0-c8de-4f0a-dcdf-9990d0eaa745"
      },
      "execution_count": 27,
      "outputs": [
        {
          "output_type": "execute_result",
          "data": {
            "text/plain": [
              "['Apple', 'Pear', 'orange']"
            ]
          },
          "metadata": {},
          "execution_count": 27
        }
      ]
    },
    {
      "cell_type": "code",
      "source": [
        "cart[3:]"
      ],
      "metadata": {
        "colab": {
          "base_uri": "https://localhost:8080/"
        },
        "id": "6NE5WwCoZipm",
        "outputId": "5aa700bc-800b-4edb-e6ef-f650b1380a7a"
      },
      "execution_count": 28,
      "outputs": [
        {
          "output_type": "execute_result",
          "data": {
            "text/plain": [
              "['Banana']"
            ]
          },
          "metadata": {},
          "execution_count": 28
        }
      ]
    },
    {
      "cell_type": "code",
      "source": [
        "cart[2:]"
      ],
      "metadata": {
        "colab": {
          "base_uri": "https://localhost:8080/"
        },
        "id": "FADhRcvwZtn2",
        "outputId": "4e0107e3-cba8-4890-bd0a-9069f4a9ce58"
      },
      "execution_count": 29,
      "outputs": [
        {
          "output_type": "execute_result",
          "data": {
            "text/plain": [
              "['orange', 'Banana']"
            ]
          },
          "metadata": {},
          "execution_count": 29
        }
      ]
    },
    {
      "cell_type": "code",
      "source": [
        "for my_fruit in cart:\n",
        "  print(f\"My favorite fruit is {my_fruit}\")"
      ],
      "metadata": {
        "colab": {
          "base_uri": "https://localhost:8080/"
        },
        "id": "cQHHqclhZzMO",
        "outputId": "93d9b55b-7c24-486f-d81d-6b5ebd57b063"
      },
      "execution_count": 31,
      "outputs": [
        {
          "output_type": "stream",
          "name": "stdout",
          "text": [
            "My favorite fruit is Apple\n",
            "My favorite fruit is Pear\n",
            "My favorite fruit is orange\n",
            "My favorite fruit is Banana\n"
          ]
        }
      ]
    },
    {
      "cell_type": "markdown",
      "source": [
        "#### Dictionary"
      ],
      "metadata": {
        "id": "zk1JxgwCbIsJ"
      }
    },
    {
      "cell_type": "code",
      "source": [
        "basket = {}"
      ],
      "metadata": {
        "id": "rExO68bHbSlc"
      },
      "execution_count": 32,
      "outputs": []
    },
    {
      "cell_type": "code",
      "source": [
        "type(basket)"
      ],
      "metadata": {
        "colab": {
          "base_uri": "https://localhost:8080/"
        },
        "id": "4HiRdfv-baww",
        "outputId": "cae5b785-019b-4809-8999-ef6cc9b1c5fd"
      },
      "execution_count": 34,
      "outputs": [
        {
          "output_type": "execute_result",
          "data": {
            "text/plain": [
              "dict"
            ]
          },
          "metadata": {},
          "execution_count": 34
        }
      ]
    },
    {
      "cell_type": "code",
      "source": [
        "basket = {\"item1\": \"Apple\", \"item2\": \"Banana\", \"item3\" : \"Orange\"}"
      ],
      "metadata": {
        "id": "2aMSdYT5bciB"
      },
      "execution_count": 35,
      "outputs": []
    },
    {
      "cell_type": "code",
      "source": [
        "basket[\"item1\"]"
      ],
      "metadata": {
        "colab": {
          "base_uri": "https://localhost:8080/",
          "height": 35
        },
        "id": "zAxGTV1lbwcI",
        "outputId": "59004625-77ff-47c8-e4a3-895ecec14ee0"
      },
      "execution_count": 39,
      "outputs": [
        {
          "output_type": "execute_result",
          "data": {
            "text/plain": [
              "'Apple'"
            ],
            "application/vnd.google.colaboratory.intrinsic+json": {
              "type": "string"
            }
          },
          "metadata": {},
          "execution_count": 39
        }
      ]
    },
    {
      "cell_type": "code",
      "source": [
        "basket.keys()"
      ],
      "metadata": {
        "colab": {
          "base_uri": "https://localhost:8080/"
        },
        "id": "ePapJOy9bzhV",
        "outputId": "4addbe5f-74b8-403c-f789-58623a36ce34"
      },
      "execution_count": 40,
      "outputs": [
        {
          "output_type": "execute_result",
          "data": {
            "text/plain": [
              "dict_keys(['item1', 'item2', 'item3'])"
            ]
          },
          "metadata": {},
          "execution_count": 40
        }
      ]
    },
    {
      "cell_type": "code",
      "source": [
        "basket.values()"
      ],
      "metadata": {
        "colab": {
          "base_uri": "https://localhost:8080/"
        },
        "id": "DaCi4oWqco-M",
        "outputId": "c09aef77-acc2-425d-914d-0ad93ea6935b"
      },
      "execution_count": 41,
      "outputs": [
        {
          "output_type": "execute_result",
          "data": {
            "text/plain": [
              "dict_values(['Apple', 'Banana', 'Orange'])"
            ]
          },
          "metadata": {},
          "execution_count": 41
        }
      ]
    },
    {
      "cell_type": "code",
      "source": [
        "for key, value in basket.items():\n",
        "  print(f\"The {key} in the basket is {value}\")"
      ],
      "metadata": {
        "colab": {
          "base_uri": "https://localhost:8080/"
        },
        "id": "Dr8mPkVEcrcL",
        "outputId": "7313e7f4-2e65-407f-e707-c3c7dd9f9876"
      },
      "execution_count": 43,
      "outputs": [
        {
          "output_type": "stream",
          "name": "stdout",
          "text": [
            "The item1 in the basket is Apple\n",
            "The item2 in the basket is Banana\n",
            "The item3 in the basket is Orange\n"
          ]
        }
      ]
    },
    {
      "cell_type": "code",
      "source": [],
      "metadata": {
        "id": "4YtUQDygdcjR"
      },
      "execution_count": null,
      "outputs": []
    }
  ]
}